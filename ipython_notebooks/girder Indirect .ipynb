{
 "metadata": {
  "name": "",
  "signature": "sha256:be6216ddedac363bee8b1ca3133a624c147791eea9a13855d5df219fce8e3205"
 },
 "nbformat": 3,
 "nbformat_minor": 0,
 "worksheets": [
  {
   "cells": [
    {
     "cell_type": "code",
     "collapsed": false,
     "input": [
      "import girder"
     ],
     "language": "python",
     "metadata": {},
     "outputs": [],
     "prompt_number": 2
    },
    {
     "cell_type": "code",
     "collapsed": false,
     "input": [
      "from GirderClient import GirderClient"
     ],
     "language": "python",
     "metadata": {},
     "outputs": [],
     "prompt_number": 3
    },
    {
     "cell_type": "code",
     "collapsed": false,
     "input": [
      "sys.path"
     ],
     "language": "python",
     "metadata": {},
     "outputs": [
      {
       "metadata": {},
       "output_type": "pyout",
       "prompt_number": 4,
       "text": [
        "['',\n",
        " '/home/safuser/miniconda/lib/python27.zip',\n",
        " '/home/safuser/miniconda/lib/python2.7',\n",
        " '/home/safuser/miniconda/lib/python2.7/plat-linux2',\n",
        " '/home/safuser/miniconda/lib/python2.7/lib-tk',\n",
        " '/home/safuser/miniconda/lib/python2.7/lib-old',\n",
        " '/home/safuser/miniconda/lib/python2.7/lib-dynload',\n",
        " '/home/safuser/miniconda/lib/python2.7/site-packages',\n",
        " '/home/safuser/miniconda/lib/python2.7/site-packages/PIL',\n",
        " '/home/safuser/miniconda/lib/python2.7/site-packages/runipy-0.1.0-py2.7.egg',\n",
        " '/home/safuser/miniconda/lib/python2.7/site-packages/setuptools-3.6-py2.7.egg',\n",
        " '/home/safuser/miniconda/lib/python2.7/site-packages/IPython/extensions',\n",
        " '/home/safuser/apps/girder',\n",
        " '/home/safuser/apps/girder/clients/python']"
       ]
      }
     ],
     "prompt_number": 4
    },
    {
     "cell_type": "code",
     "collapsed": false,
     "input": [
      "c = GirderClient('simplipy.org', 80)"
     ],
     "language": "python",
     "metadata": {},
     "outputs": [],
     "prompt_number": 7
    },
    {
     "cell_type": "code",
     "collapsed": false,
     "input": [
      "c.authenticate('testuser', 'testtest')"
     ],
     "language": "python",
     "metadata": {},
     "outputs": [],
     "prompt_number": 9
    },
    {
     "cell_type": "code",
     "collapsed": false,
     "input": [
      "\n",
      "\n",
      "# itemId = c.createitem(folderId, 'some item name', 'and description')\n",
      "\n",
      "# c.addMetaDataToItem(itemId, {'metakey': 'metavalue'})\n",
      "\n",
      "# c.uploadFileToItem(itemId, '/full/path/to/your/file.txt')"
     ],
     "language": "python",
     "metadata": {},
     "outputs": []
    }
   ],
   "metadata": {}
  }
 ]
}