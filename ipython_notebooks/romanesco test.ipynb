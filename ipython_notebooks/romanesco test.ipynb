{
 "metadata": {
  "name": "",
  "signature": "sha256:21c41292340ed8772cc57c6ef19426f2641ed0a77c8a82f40e48510277871965"
 },
 "nbformat": 3,
 "nbformat_minor": 0,
 "worksheets": [
  {
   "cells": [
    {
     "cell_type": "code",
     "collapsed": false,
     "input": [
      "import sys\n",
      "sys.path"
     ],
     "language": "python",
     "metadata": {},
     "outputs": [
      {
       "metadata": {},
       "output_type": "pyout",
       "prompt_number": 1,
       "text": [
        "['',\n",
        " '/home/safuser/miniconda/lib/python27.zip',\n",
        " '/home/safuser/miniconda/lib/python2.7',\n",
        " '/home/safuser/miniconda/lib/python2.7/plat-linux2',\n",
        " '/home/safuser/miniconda/lib/python2.7/lib-tk',\n",
        " '/home/safuser/miniconda/lib/python2.7/lib-old',\n",
        " '/home/safuser/miniconda/lib/python2.7/lib-dynload',\n",
        " '/home/safuser/miniconda/lib/python2.7/site-packages',\n",
        " '/home/safuser/miniconda/lib/python2.7/site-packages/PIL',\n",
        " '/home/safuser/miniconda/lib/python2.7/site-packages/runipy-0.1.0-py2.7.egg',\n",
        " '/home/safuser/miniconda/lib/python2.7/site-packages/setuptools-3.6-py2.7.egg',\n",
        " '/home/safuser/miniconda/lib/python2.7/site-packages/IPython/extensions',\n",
        " '/home/safuser/apps/girder',\n",
        " '/home/safuser/apps/girder/clients/python',\n",
        " '/home/safuser/apps/girder/plugins',\n",
        " '/home/safuser/apps/girder/plugins/romanesco']"
       ]
      }
     ],
     "prompt_number": 1
    },
    {
     "cell_type": "code",
     "collapsed": false,
     "input": [
      "import celery\n",
      "import json\n",
      "import girder\n",
      "import romanesco"
     ],
     "language": "python",
     "metadata": {},
     "outputs": [],
     "prompt_number": 4
    },
    {
     "cell_type": "code",
     "collapsed": false,
     "input": [
      "celeryapp = celery.Celery('romanesco',\n",
      "    backend='mongodb://localhost/romanesco',\n",
      "    broker='mongodb://localhost/romanesco')"
     ],
     "language": "python",
     "metadata": {},
     "outputs": [],
     "prompt_number": 5
    },
    {
     "cell_type": "code",
     "collapsed": false,
     "input": [
      "analysis = {\n",
      "    \"name\" : \"simple add\",\n",
      "    \"inputs\" : [{ \"name\" : \"a\", \n",
      "}\n",
      "\n",
      "]\n",
      "}\n",
      "\n",
      "\n",
      "\n",
      "\n",
      "async_result = celeryapp.send_task(\"romanesco.run\", [analysis], {\n",
      "    \"inputs\": {\n",
      "        \"a\": {\"format\": \"rows\", \"data\": [{\"aa\": 1, \"bb\": 2}]},\n",
      "        \"b\": {\"format\": \"rows\", \"data\": [{\"aa\": 3, \"bb\": 4}]}\n",
      "    },\n",
      "    \"outputs\": {\n",
      "        \"c\": {\"format\": \"rows\", \"uri\": \"mongodb://romanesco/testput\"}\n",
      "    }\n",
      "})\n",
      "\n"
     ],
     "language": "python",
     "metadata": {},
     "outputs": [],
     "prompt_number": 31
    },
    {
     "cell_type": "code",
     "collapsed": false,
     "input": [
      "async_result.backend"
     ],
     "language": "python",
     "metadata": {},
     "outputs": [
      {
       "metadata": {},
       "output_type": "pyout",
       "prompt_number": 32,
       "text": [
        "<celery.backends.mongodb.MongoBackend at 0x7f3cbc033c50>"
       ]
      }
     ],
     "prompt_number": 32
    },
    {
     "cell_type": "code",
     "collapsed": false,
     "input": [
      "print async_result.get()"
     ],
     "language": "python",
     "metadata": {},
     "outputs": [
      {
       "ename": "Exception",
       "evalue": "Input a (Python type <type 'list'>) is not in the expected type (table) and format (rows).",
       "output_type": "pyerr",
       "traceback": [
        "\u001b[1;31m---------------------------------------------------------------------------\u001b[0m\n\u001b[1;31mException\u001b[0m                                 Traceback (most recent call last)",
        "\u001b[1;32m<ipython-input-33-6ea13e4b5b18>\u001b[0m in \u001b[0;36m<module>\u001b[1;34m()\u001b[0m\n\u001b[1;32m----> 1\u001b[1;33m \u001b[1;32mprint\u001b[0m \u001b[0masync_result\u001b[0m\u001b[1;33m.\u001b[0m\u001b[0mget\u001b[0m\u001b[1;33m(\u001b[0m\u001b[1;33m)\u001b[0m\u001b[1;33m\u001b[0m\u001b[0m\n\u001b[0m",
        "\u001b[1;32m/home/safuser/miniconda/lib/python2.7/site-packages/celery/result.pyc\u001b[0m in \u001b[0;36mget\u001b[1;34m(self, timeout, propagate, interval, no_ack, follow_parents)\u001b[0m\n\u001b[0;32m    167\u001b[0m                 \u001b[0minterval\u001b[0m\u001b[1;33m=\u001b[0m\u001b[0minterval\u001b[0m\u001b[1;33m,\u001b[0m\u001b[1;33m\u001b[0m\u001b[0m\n\u001b[0;32m    168\u001b[0m                 \u001b[0mon_interval\u001b[0m\u001b[1;33m=\u001b[0m\u001b[0mon_interval\u001b[0m\u001b[1;33m,\u001b[0m\u001b[1;33m\u001b[0m\u001b[0m\n\u001b[1;32m--> 169\u001b[1;33m                 \u001b[0mno_ack\u001b[0m\u001b[1;33m=\u001b[0m\u001b[0mno_ack\u001b[0m\u001b[1;33m,\u001b[0m\u001b[1;33m\u001b[0m\u001b[0m\n\u001b[0m\u001b[0;32m    170\u001b[0m             )\n\u001b[0;32m    171\u001b[0m         \u001b[1;32mfinally\u001b[0m\u001b[1;33m:\u001b[0m\u001b[1;33m\u001b[0m\u001b[0m\n",
        "\u001b[1;32m/home/safuser/miniconda/lib/python2.7/site-packages/celery/backends/base.pyc\u001b[0m in \u001b[0;36mwait_for\u001b[1;34m(self, task_id, timeout, propagate, interval, no_ack, on_interval)\u001b[0m\n\u001b[0;32m    213\u001b[0m                 \u001b[0mresult\u001b[0m \u001b[1;33m=\u001b[0m \u001b[0mself\u001b[0m\u001b[1;33m.\u001b[0m\u001b[0mget_result\u001b[0m\u001b[1;33m(\u001b[0m\u001b[0mtask_id\u001b[0m\u001b[1;33m)\u001b[0m\u001b[1;33m\u001b[0m\u001b[0m\n\u001b[0;32m    214\u001b[0m                 \u001b[1;32mif\u001b[0m \u001b[0mpropagate\u001b[0m\u001b[1;33m:\u001b[0m\u001b[1;33m\u001b[0m\u001b[0m\n\u001b[1;32m--> 215\u001b[1;33m                     \u001b[1;32mraise\u001b[0m \u001b[0mresult\u001b[0m\u001b[1;33m\u001b[0m\u001b[0m\n\u001b[0m\u001b[0;32m    216\u001b[0m                 \u001b[1;32mreturn\u001b[0m \u001b[0mresult\u001b[0m\u001b[1;33m\u001b[0m\u001b[0m\n\u001b[0;32m    217\u001b[0m             \u001b[1;32mif\u001b[0m \u001b[0mon_interval\u001b[0m\u001b[1;33m:\u001b[0m\u001b[1;33m\u001b[0m\u001b[0m\n",
        "\u001b[1;31mException\u001b[0m: Input a (Python type <type 'list'>) is not in the expected type (table) and format (rows)."
       ]
      }
     ],
     "prompt_number": 33
    },
    {
     "cell_type": "code",
     "collapsed": false,
     "input": [
      "async_result.state"
     ],
     "language": "python",
     "metadata": {},
     "outputs": [
      {
       "metadata": {},
       "output_type": "pyout",
       "prompt_number": 9,
       "text": [
        "u'FAILURE'"
       ]
      }
     ],
     "prompt_number": 9
    },
    {
     "cell_type": "code",
     "collapsed": false,
     "input": [
      "async_result.successful()"
     ],
     "language": "python",
     "metadata": {},
     "outputs": [
      {
       "metadata": {},
       "output_type": "pyout",
       "prompt_number": 10,
       "text": [
        "False"
       ]
      }
     ],
     "prompt_number": 10
    },
    {
     "cell_type": "code",
     "collapsed": false,
     "input": [
      "romanesco.format.print_conversion_table()[source]\n"
     ],
     "language": "python",
     "metadata": {},
     "outputs": [
      {
       "output_type": "stream",
       "stream": "stdout",
       "text": [
        "from,to\n",
        "string:text,string:json\n",
        "string:json,string:text\n",
        "boolean:json,boolean:boolean\n",
        "boolean:boolean,boolean:json\n",
        "image:pil,image:png.base64\n",
        "image:pil,image:png\n",
        "image:png.base64,image:pil\n",
        "image:png.base64,image:png\n",
        "image:png,image:pil\n",
        "image:png,image:png.base64\n",
        "tree:nested.json,tree:nexus\n",
        "tree:nested.json,tree:vtktree\n",
        "tree:nested.json,tree:r.apetree\n",
        "tree:nested.json,tree:newick\n",
        "tree:nested.json,tree:vtktree.serialized\n",
        "tree:nested.json,tree:nested\n",
        "tree:nested.json,tree:treestore\n",
        "tree:nexus,tree:nested.json\n",
        "tree:nexus,tree:treestore\n",
        "tree:nexus,tree:r.apetree\n",
        "tree:nexus,tree:nested\n",
        "tree:nexus,tree:vtktree.serialized\n",
        "tree:nexus,tree:newick\n",
        "tree:nexus,tree:vtktree\n",
        "tree:vtktree,tree:nested.json\n",
        "tree:vtktree,tree:nexus\n",
        "tree:vtktree,tree:treestore\n",
        "tree:vtktree,tree:r.apetree\n",
        "tree:vtktree,tree:newick\n",
        "tree:vtktree,tree:vtktree.serialized\n",
        "tree:vtktree,tree:nested\n",
        "tree:r.apetree,tree:nested.json\n",
        "tree:r.apetree,tree:nexus\n",
        "tree:r.apetree,tree:treestore\n",
        "tree:r.apetree,tree:newick\n",
        "tree:r.apetree,tree:vtktree.serialized\n",
        "tree:r.apetree,tree:nested\n",
        "tree:r.apetree,tree:vtktree\n",
        "tree:nested,tree:nested.json\n",
        "tree:nested,tree:nexus\n",
        "tree:nested,tree:vtktree\n",
        "tree:nested,tree:r.apetree\n",
        "tree:nested,tree:newick\n",
        "tree:nested,tree:vtktree.serialized\n",
        "tree:nested,tree:treestore\n",
        "tree:vtktree.serialized,tree:nested.json\n",
        "tree:vtktree.serialized,tree:nexus\n",
        "tree:vtktree.serialized,tree:vtktree\n",
        "tree:vtktree.serialized,tree:r.apetree\n",
        "tree:vtktree.serialized,tree:nested\n",
        "tree:vtktree.serialized,tree:newick\n",
        "tree:vtktree.serialized,tree:treestore\n",
        "tree:newick,tree:nested.json\n",
        "tree:newick,tree:nexus\n",
        "tree:newick,tree:vtktree\n",
        "tree:newick,tree:r.apetree\n",
        "tree:newick,tree:nested\n",
        "tree:newick,tree:vtktree.serialized\n",
        "tree:newick,tree:treestore\n",
        "number:json,number:number\n",
        "number:number,number:json\n",
        "geometry:vtkpolydata,geometry:vtkpolydata.serialized\n",
        "geometry:vtkpolydata.serialized,geometry:vtkpolydata\n",
        "r:serialized,r:object\n",
        "r:object,r:serialized\n",
        "table:vtktable.serialized,table:rows\n",
        "table:vtktable.serialized,table:objectlist.bson\n",
        "table:vtktable.serialized,table:column.names.continuous\n",
        "table:vtktable.serialized,table:tsv\n",
        "table:vtktable.serialized,table:r.dataframe\n",
        "table:vtktable.serialized,table:vtktable\n",
        "table:vtktable.serialized,table:column.names\n",
        "table:vtktable.serialized,table:objectlist.json\n",
        "table:vtktable.serialized,table:column.names.discrete\n",
        "table:vtktable.serialized,table:csv\n",
        "table:vtktable.serialized,table:rows.json\n",
        "table:vtktable.serialized,table:objectlist\n",
        "table:rows,table:vtktable.serialized\n",
        "table:rows,table:objectlist.bson\n",
        "table:rows,table:column.names.continuous\n",
        "table:rows,table:column.names\n",
        "table:rows,table:r.dataframe\n",
        "table:rows,table:vtktable\n",
        "table:rows,table:tsv\n",
        "table:rows,table:objectlist.json\n",
        "table:rows,table:column.names.discrete\n",
        "table:rows,table:csv\n",
        "table:rows,table:rows.json\n",
        "table:rows,table:objectlist\n",
        "table:objectlist.bson,table:vtktable.serialized\n",
        "table:objectlist.bson,table:rows\n",
        "table:objectlist.bson,table:column.names.continuous\n",
        "table:objectlist.bson,table:tsv\n",
        "table:objectlist.bson,table:objectlist.json\n",
        "table:objectlist.bson,table:vtktable\n",
        "table:objectlist.bson,table:column.names\n",
        "table:objectlist.bson,table:r.dataframe\n",
        "table:objectlist.bson,table:column.names.discrete\n",
        "table:objectlist.bson,table:csv\n",
        "table:objectlist.bson,table:rows.json\n",
        "table:objectlist.bson,table:objectlist\n",
        "table:r.dataframe,table:vtktable.serialized\n",
        "table:r.dataframe,table:rows\n",
        "table:r.dataframe,table:column.names.continuous\n",
        "table:r.dataframe,table:objectlist.bson\n",
        "table:r.dataframe,table:tsv\n",
        "table:r.dataframe,table:objectlist.json\n",
        "table:r.dataframe,table:vtktable\n",
        "table:r.dataframe,table:column.names\n",
        "table:r.dataframe,table:column.names.discrete\n",
        "table:r.dataframe,table:csv\n",
        "table:r.dataframe,table:rows.json\n",
        "table:r.dataframe,table:objectlist\n",
        "table:vtktable,table:vtktable.serialized\n",
        "table:vtktable,table:rows\n",
        "table:vtktable,table:objectlist.bson\n",
        "table:vtktable,table:column.names.continuous\n",
        "table:vtktable,table:tsv\n",
        "table:vtktable,table:r.dataframe\n",
        "table:vtktable,table:column.names\n",
        "table:vtktable,table:objectlist.json\n",
        "table:vtktable,table:column.names.discrete\n",
        "table:vtktable,table:csv\n",
        "table:vtktable,table:rows.json\n",
        "table:vtktable,table:objectlist\n",
        "table:tsv,table:vtktable.serialized\n",
        "table:tsv,table:rows\n",
        "table:tsv,table:objectlist.bson\n",
        "table:tsv,table:column.names.continuous\n",
        "table:tsv,table:r.dataframe\n",
        "table:tsv,table:vtktable\n",
        "table:tsv,table:column.names\n",
        "table:tsv,table:objectlist.json\n",
        "table:tsv,table:column.names.discrete\n",
        "table:tsv,table:csv\n",
        "table:tsv,table:rows.json\n",
        "table:tsv,table:objectlist\n",
        "table:objectlist.json,table:vtktable.serialized\n",
        "table:objectlist.json,table:rows\n",
        "table:objectlist.json,table:objectlist.bson\n",
        "table:objectlist.json,table:column.names.continuous\n",
        "table:objectlist.json,table:tsv\n",
        "table:objectlist.json,table:r.dataframe\n",
        "table:objectlist.json,table:vtktable\n",
        "table:objectlist.json,table:column.names\n",
        "table:objectlist.json,table:column.names.discrete\n",
        "table:objectlist.json,table:csv\n",
        "table:objectlist.json,table:rows.json\n",
        "table:objectlist.json,table:objectlist\n",
        "table:csv,table:vtktable.serialized\n",
        "table:csv,table:rows\n",
        "table:csv,table:objectlist.bson\n",
        "table:csv,table:column.names.continuous\n",
        "table:csv,table:tsv\n",
        "table:csv,table:r.dataframe\n",
        "table:csv,table:vtktable\n",
        "table:csv,table:column.names\n",
        "table:csv,table:objectlist.json\n",
        "table:csv,table:column.names.discrete\n",
        "table:csv,table:rows.json\n",
        "table:csv,table:objectlist\n",
        "table:rows.json,table:vtktable.serialized\n",
        "table:rows.json,table:rows\n",
        "table:rows.json,table:objectlist.bson\n",
        "table:rows.json,table:column.names.continuous\n",
        "table:rows.json,table:tsv\n",
        "table:rows.json,table:r.dataframe\n",
        "table:rows.json,table:vtktable\n",
        "table:rows.json,table:column.names\n",
        "table:rows.json,table:objectlist.json\n",
        "table:rows.json,table:column.names.discrete\n",
        "table:rows.json,table:csv\n",
        "table:rows.json,table:objectlist\n",
        "table:objectlist,table:vtktable.serialized\n",
        "table:objectlist,table:rows\n",
        "table:objectlist,table:column.names.continuous\n",
        "table:objectlist,table:objectlist.bson\n",
        "table:objectlist,table:tsv\n",
        "table:objectlist,table:objectlist.json\n",
        "table:objectlist,table:vtktable\n",
        "table:objectlist,table:column.names\n",
        "table:objectlist,table:r.dataframe\n",
        "table:objectlist,table:column.names.discrete\n",
        "table:objectlist,table:csv\n",
        "table:objectlist,table:rows.json\n"
       ]
      },
      {
       "ename": "TypeError",
       "evalue": "'NoneType' object has no attribute '__getitem__'",
       "output_type": "pyerr",
       "traceback": [
        "\u001b[1;31m---------------------------------------------------------------------------\u001b[0m\n\u001b[1;31mTypeError\u001b[0m                                 Traceback (most recent call last)",
        "\u001b[1;32m<ipython-input-11-7bbc4cdf77d6>\u001b[0m in \u001b[0;36m<module>\u001b[1;34m()\u001b[0m\n\u001b[1;32m----> 1\u001b[1;33m \u001b[0mromanesco\u001b[0m\u001b[1;33m.\u001b[0m\u001b[0mformat\u001b[0m\u001b[1;33m.\u001b[0m\u001b[0mprint_conversion_table\u001b[0m\u001b[1;33m(\u001b[0m\u001b[1;33m)\u001b[0m\u001b[1;33m[\u001b[0m\u001b[0msource\u001b[0m\u001b[1;33m]\u001b[0m\u001b[1;33m\u001b[0m\u001b[0m\n\u001b[0m",
        "\u001b[1;31mTypeError\u001b[0m: 'NoneType' object has no attribute '__getitem__'"
       ]
      }
     ],
     "prompt_number": 11
    },
    {
     "cell_type": "code",
     "collapsed": false,
     "input": [
      "analysis = {\n",
      "    \"name\": \"append_tables\",\n",
      "    \"inputs\": [{\"name\": \"a\", \"type\": \"table\", \"format\": \"rows\"}, \n",
      "               {\"name\": \"b\", \"type\": \"table\", \"format\": \"rows\"}],\n",
      "    \"outputs\": [{\"name\": \"c\", \"type\": \"table\", \"format\": \"rows\"}],\n",
      "    \"script\": \"c = a + b\",\n",
      "    \"mode\": \"python\"\n",
      "}\n",
      "import json\n",
      "\n",
      "romanesco.load(json.dumps(analysis))"
     ],
     "language": "python",
     "metadata": {},
     "outputs": [
      {
       "ename": "IOError",
       "evalue": "[Errno 2] No such file or directory: '{\"inputs\": [{\"type\": \"table\", \"name\": \"a\", \"format\": \"rows\"}, {\"type\": \"table\", \"name\": \"b\", \"format\": \"rows\"}], \"mode\": \"python\", \"script\": \"c = a + b\", \"name\": \"append_tables\", \"outputs\": [{\"type\": \"table\", \"name\": \"c\", \"format\": \"rows\"}]}'",
       "output_type": "pyerr",
       "traceback": [
        "\u001b[1;31m---------------------------------------------------------------------------\u001b[0m\n\u001b[1;31mIOError\u001b[0m                                   Traceback (most recent call last)",
        "\u001b[1;32m<ipython-input-36-58b0ae13ca76>\u001b[0m in \u001b[0;36m<module>\u001b[1;34m()\u001b[0m\n\u001b[0;32m      9\u001b[0m \u001b[1;32mimport\u001b[0m \u001b[0mjson\u001b[0m\u001b[1;33m\u001b[0m\u001b[0m\n\u001b[0;32m     10\u001b[0m \u001b[1;33m\u001b[0m\u001b[0m\n\u001b[1;32m---> 11\u001b[1;33m \u001b[0mromanesco\u001b[0m\u001b[1;33m.\u001b[0m\u001b[0mload\u001b[0m\u001b[1;33m(\u001b[0m\u001b[0mjson\u001b[0m\u001b[1;33m.\u001b[0m\u001b[0mdumps\u001b[0m\u001b[1;33m(\u001b[0m\u001b[0manalysis\u001b[0m\u001b[1;33m)\u001b[0m\u001b[1;33m)\u001b[0m\u001b[1;33m\u001b[0m\u001b[0m\n\u001b[0m",
        "\u001b[1;32m/home/safuser/apps/girder/plugins/romanesco/romanesco/__init__.pyc\u001b[0m in \u001b[0;36mload\u001b[1;34m(analysis_file)\u001b[0m\n\u001b[0;32m     22\u001b[0m     \"\"\"\n\u001b[0;32m     23\u001b[0m \u001b[1;33m\u001b[0m\u001b[0m\n\u001b[1;32m---> 24\u001b[1;33m     \u001b[1;32mwith\u001b[0m \u001b[0mopen\u001b[0m\u001b[1;33m(\u001b[0m\u001b[0manalysis_file\u001b[0m\u001b[1;33m)\u001b[0m \u001b[1;32mas\u001b[0m \u001b[0mf\u001b[0m\u001b[1;33m:\u001b[0m\u001b[1;33m\u001b[0m\u001b[0m\n\u001b[0m\u001b[0;32m     25\u001b[0m         \u001b[0manalysis\u001b[0m \u001b[1;33m=\u001b[0m \u001b[0mjson\u001b[0m\u001b[1;33m.\u001b[0m\u001b[0mload\u001b[0m\u001b[1;33m(\u001b[0m\u001b[0mf\u001b[0m\u001b[1;33m)\u001b[0m\u001b[1;33m\u001b[0m\u001b[0m\n\u001b[0;32m     26\u001b[0m \u001b[1;33m\u001b[0m\u001b[0m\n",
        "\u001b[1;31mIOError\u001b[0m: [Errno 2] No such file or directory: '{\"inputs\": [{\"type\": \"table\", \"name\": \"a\", \"format\": \"rows\"}, {\"type\": \"table\", \"name\": \"b\", \"format\": \"rows\"}], \"mode\": \"python\", \"script\": \"c = a + b\", \"name\": \"append_tables\", \"outputs\": [{\"type\": \"table\", \"name\": \"c\", \"format\": \"rows\"}]}'"
       ]
      }
     ],
     "prompt_number": 36
    },
    {
     "cell_type": "heading",
     "level": 1,
     "metadata": {},
     "source": []
    }
   ],
   "metadata": {}
  }
 ]
}