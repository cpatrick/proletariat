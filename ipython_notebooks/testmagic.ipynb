{
 "metadata": {
  "name": "",
  "signature": "sha256:d60a9e022d4cc2b28093254fc391e514e576ea818884f4187b0d36e051aa7e69"
 },
 "nbformat": 3,
 "nbformat_minor": 0,
 "worksheets": [
  {
   "cells": [
    {
     "cell_type": "code",
     "collapsed": false,
     "input": [
      "%%girder\n",
      "\n",
      "fout = open('/tmp/hello.txt','w')\n",
      "fout.write('hi rich')\n",
      "fout.close()\n"
     ],
     "language": "python",
     "metadata": {},
     "outputs": [
      {
       "output_type": "stream",
       "stream": "stdout",
       "text": [
        "import sys\n",
        "sys.path.append(\"/home/safuser/apps/girder\")\n",
        "sys.path.append(\"/home/safuser/apps/proletariat\")\n",
        "\n",
        "\n",
        "fout = open('/tmp/hello.txt','w')\n",
        "fout.write('hi rich')\n",
        "fout.close()\n",
        "Celery task  322b0985-1653-41b3-8dfe-ab01c7515a0d\n"
       ]
      },
      {
       "metadata": {},
       "output_type": "pyout",
       "prompt_number": 2,
       "text": [
        "(None, None)"
       ]
      }
     ],
     "prompt_number": 2
    },
    {
     "cell_type": "code",
     "collapsed": false,
     "input": [
      "%%girder \n",
      "\n",
      "import json\n",
      "\n",
      "return_result = {}\n",
      "return_result['kwargs'] = dict(kwargs)\n",
      "return_result['syspath'] = sys.path\n",
      "\n",
      "fout = open('/tmp/girder_path.txt','w')\n",
      "fout.write(json.dumps(return_result))\n",
      "fout.close()\n"
     ],
     "language": "python",
     "metadata": {},
     "outputs": [
      {
       "output_type": "stream",
       "stream": "stdout",
       "text": [
        "import sys\n",
        "sys.path.append(\"/home/safuser/apps/girder\")\n",
        "sys.path.append(\"/home/safuser/apps/proletariat\")\n",
        "\n",
        "\n",
        "import json\n",
        "\n",
        "return_result = {}\n",
        "return_result['kwargs'] = dict(kwargs)\n",
        "return_result['syspath'] = sys.path\n",
        "\n",
        "fout = open('/tmp/girder_path.txt','w')\n",
        "fout.write(json.dumps(return_result))\n",
        "fout.close()\n",
        "Celery task  4090cd40-7bd4-4d0e-ba70-67ac526cdc5f\n"
       ]
      },
      {
       "metadata": {},
       "output_type": "pyout",
       "prompt_number": 3,
       "text": [
        "(None, None)"
       ]
      }
     ],
     "prompt_number": 3
    },
    {
     "cell_type": "code",
     "collapsed": false,
     "input": [
      "%%girder \n",
      "\n",
      "def getUser(login):\n",
      "    \n",
      "    from girder.utility.model_importer import ModelImporter\n",
      "    m = ModelImporter()\n",
      "    user_query = m.model('user').find({'login' : login})\n",
      "    user = None\n",
      "    if user_query.count() == 1:\n",
      "        user = user_query[0]\n",
      "    else:\n",
      "        print 'no user found'\n",
      "    return user\n",
      "\n",
      "test_user = getUser('testuser')\n",
      "\n",
      "from bson import json_util\n",
      "import json\n",
      "\n",
      "user_str = json.dumps(test_user, default=json_util.default)\n",
      "\n",
      "fout = open('/tmp/girder_test.json','w')\n",
      "fout.write(user_str)\n",
      "fout.close()"
     ],
     "language": "python",
     "metadata": {},
     "outputs": [
      {
       "output_type": "stream",
       "stream": "stdout",
       "text": [
        "import sys\n",
        "sys.path.append(\"/home/safuser/apps/girder\")\n",
        "sys.path.append(\"/home/safuser/apps/proletariat\")\n",
        "\n",
        "\n",
        "def getUser(login):\n",
        "    \n",
        "    from girder.utility.model_importer import ModelImporter\n",
        "\n",
        "    m = ModelImporter()\n",
        "\n",
        "    user_query = m.model('user').find({'login' : login})\n",
        "    user = None\n",
        "\n",
        "    if user_query.count() == 1:\n",
        "        user = user_query[0]\n",
        "    else:\n",
        "        print 'no user found'\n",
        "\n",
        "    return user\n",
        "\n",
        "\n",
        "test_user = getUser('testuser')\n",
        "\n",
        "from bson import json_util\n",
        "import json\n",
        "\n",
        "user_str = json.dumps(test_user, default=json_util.default)\n",
        "\n",
        "fout = open('/tmp/girder_test.json','w')\n",
        "fout.write(user_str)\n",
        "fout.close()\n",
        "Celery task  eacb899f-315d-4451-be5e-c5e2754f3c62\n"
       ]
      },
      {
       "metadata": {},
       "output_type": "pyout",
       "prompt_number": 6,
       "text": [
        "(None, None)"
       ]
      }
     ],
     "prompt_number": 6
    },
    {
     "cell_type": "code",
     "collapsed": false,
     "input": [
      "%%lcmagic\n",
      "\n",
      "print 'hello'"
     ],
     "language": "python",
     "metadata": {},
     "outputs": [
      {
       "output_type": "stream",
       "stream": "stdout",
       "text": [
        "Called as cell magic\n"
       ]
      },
      {
       "metadata": {},
       "output_type": "pyout",
       "prompt_number": 5,
       "text": [
        "(u'', u\"\\nprint 'hello'\")"
       ]
      }
     ],
     "prompt_number": 5
    },
    {
     "cell_type": "code",
     "collapsed": false,
     "input": [],
     "language": "python",
     "metadata": {},
     "outputs": []
    }
   ],
   "metadata": {}
  }
 ]
}