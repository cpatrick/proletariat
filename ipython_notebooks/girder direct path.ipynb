{
 "metadata": {
  "name": "",
  "signature": "sha256:2f3a2f4d8b23a23ba909fcd2926bd8610a03953b085c11cccc5b056dbfc7db46"
 },
 "nbformat": 3,
 "nbformat_minor": 0,
 "worksheets": [
  {
   "cells": [
    {
     "cell_type": "code",
     "collapsed": false,
     "input": [
      "from girder.constants import TerminalColor, AccessType\n",
      "from girder.utility.model_importer import ModelImporter"
     ],
     "language": "python",
     "metadata": {},
     "outputs": [],
     "prompt_number": 1
    },
    {
     "cell_type": "code",
     "collapsed": false,
     "input": [
      "m = ModelImporter()"
     ],
     "language": "python",
     "metadata": {},
     "outputs": [],
     "prompt_number": 2
    },
    {
     "cell_type": "code",
     "collapsed": false,
     "input": [
      "def getUser(login):\n",
      "\n",
      "    m = ModelImporter()\n",
      "\n",
      "    user_query = m.model('user').find({'login' : login})\n",
      "    user = None\n",
      "\n",
      "    if user_query.count() == 1:\n",
      "        user = user_query[0]\n",
      "    else:\n",
      "        print 'no user found'\n",
      "\n",
      "    return user\n",
      "\n",
      "test_user = getUser('testuser')\n",
      "\n",
      "\n"
     ],
     "language": "python",
     "metadata": {},
     "outputs": [],
     "prompt_number": 4
    },
    {
     "cell_type": "code",
     "collapsed": false,
     "input": [
      "test_user = getUser('testuser')"
     ],
     "language": "python",
     "metadata": {},
     "outputs": [],
     "prompt_number": 6
    },
    {
     "cell_type": "code",
     "collapsed": false,
     "input": [
      "test_user"
     ],
     "language": "python",
     "metadata": {},
     "outputs": [
      {
       "metadata": {},
       "output_type": "pyout",
       "prompt_number": 7,
       "text": [
        "{u'_id': ObjectId('53f961ae6c461d2e664f8530'),\n",
        " u'access': {u'groups': [],\n",
        "  u'users': [{u'id': ObjectId('53f961ae6c461d2e664f8530'), u'level': 2}]},\n",
        " u'admin': False,\n",
        " u'created': datetime.datetime(2014, 8, 23, 23, 53, 18, 97000),\n",
        " u'email': u'test@simplipy.org',\n",
        " u'emailVerified': False,\n",
        " u'firstName': u'Test',\n",
        " u'groupInvites': [],\n",
        " u'hashAlg': u'bcrypt',\n",
        " u'lastName': u'User',\n",
        " u'login': u'testuser',\n",
        " u'public': True,\n",
        " u'salt': u'$2a$12$GPQrGoLTo5Kmxceq7ZY/PeDHVGkdIezoj3jFeT85wbh4cImVP6BDm',\n",
        " u'size': 0}"
       ]
      }
     ],
     "prompt_number": 7
    },
    {
     "cell_type": "code",
     "collapsed": false,
     "input": [],
     "language": "python",
     "metadata": {},
     "outputs": []
    }
   ],
   "metadata": {}
  }
 ]
}